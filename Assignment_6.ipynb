{
 "cells": [
  {
   "cell_type": "markdown",
   "metadata": {},
   "source": [
    "# Assignment 6"
   ]
  },
  {
   "cell_type": "markdown",
   "metadata": {},
   "source": [
    "### 1.复习上课内容"
   ]
  },
  {
   "cell_type": "markdown",
   "metadata": {},
   "source": [
    "### 2. 回答一下理论题目"
   ]
  },
  {
   "cell_type": "markdown",
   "metadata": {},
   "source": [
    "#### 1. What is independent assumption in Naive bayes ?\n",
    "\n",
    "朴素贝叶斯中，独立假设是指用于分类的特征在类别确定的前提下都是条件独立的。也就是说：$$P(a_1, a_2, \\cdots, a_n|v_j) = P(a_1|v_j)P(a_2|v_j)\\cdots P(a_n|v_j)$$"
   ]
  },
  {
   "cell_type": "markdown",
   "metadata": {},
   "source": [
    "#### 2. What is MAP(maximum a posterior) and ML(maximum likelihood) ?\n",
    "\n",
    "在给定数据D和假设空间H前提下，通过MAP或ML来对输入进行预测。\n",
    "\n",
    "MAP, 即最大化后验概率。$$h_{MAP} = {\\arg\\max}_h P(h|D) = {\\arg\\max}_h {\\frac{P(D|h)P(h)}{P(D)}}={\\arg\\max}_h{P(D|h)P(h)}$$\n",
    "ML，即最大化似然估计概率。如果对于假设空间H中的所有假设h，概率相同，我们就得到了ML模型。$$h_{ML} = {\\arg\\max}_h{P(D|h)}$$"
   ]
  },
  {
   "cell_type": "markdown",
   "metadata": {},
   "source": [
    "#### 3. What is support vector in SVM?\n",
    "支持向量(support vector)指对分割超平面有贡献的样本点。因为分割超平面是由落在分割边界上的点来决定的，其他点不管有多少，都不影响分割超平面的位置，因此把那些支撑起分割超平面的样本点成为SVM中的支持向量。"
   ]
  },
  {
   "cell_type": "markdown",
   "metadata": {},
   "source": [
    "#### 4. What is the intuition behind SVM ?\n",
    "SVM利用直线（或高维空间中的超平面）对数据进行分类，使得离直线（或超平面）最近的点间隔最大化。"
   ]
  },
  {
   "cell_type": "markdown",
   "metadata": {},
   "source": [
    "#### 5. Shortly describ what 'random' means in random forest ?\n",
    "随机森林是“随机”从样本中采样，然后生成决策树。这样重复多次，生成许多决策树。分类时，让这些决策数各自决策，然后少数服从多数，获得答案。"
   ]
  },
  {
   "cell_type": "markdown",
   "metadata": {},
   "source": [
    "#### 6. What cariterion does XGBoost use to find the best split point in a tree ?\n",
    "遍历每个特征，在每个特征中选择该特征下的每个值作为其分裂点，计算增益损失。当遍历完所有特征之后，增益损失最大的特征值将作为其分裂点。"
   ]
  },
  {
   "cell_type": "markdown",
   "metadata": {},
   "source": [
    "### 3. Practial part"
   ]
  },
  {
   "cell_type": "markdown",
   "metadata": {},
   "source": [
    "##### Problem description: In this part you are going to build a classifier to detect if a piece of news is published by the Xinhua news agency (新华社）."
   ]
  },
  {
   "cell_type": "markdown",
   "metadata": {},
   "source": [
    "#### Hints:"
   ]
  },
  {
   "cell_type": "markdown",
   "metadata": {},
   "source": [
    "###### 1. Firstly, you have to come up with a way to represent the news. (Vectorize the sentence, you can find different ways to do so online)  "
   ]
  },
  {
   "cell_type": "markdown",
   "metadata": {},
   "source": [
    "###### 2. Secondly,  pick a machine learning algorithm that you think is suitable for this task"
   ]
  },
  {
   "cell_type": "code",
   "execution_count": 23,
   "metadata": {},
   "outputs": [],
   "source": [
    "import pandas as pd\n",
    "import numpy as np\n",
    "import matplotlib.pyplot as plt\n",
    "from sklearn.model_selection import train_test_split\n",
    "import jieba\n",
    "from sklearn.feature_extraction.text import TfidfVectorizer\n",
    "from sklearn.metrics import confusion_matrix, classification_report\n",
    "from imblearn.over_sampling import SMOTE, BorderlineSMOTE\n",
    "import ast\n",
    "import warnings\n",
    "warnings.filterwarnings('ignore')\n",
    "pd.set_option('display.max_columns', None)\n",
    "%matplotlib inline"
   ]
  },
  {
   "cell_type": "code",
   "execution_count": 2,
   "metadata": {},
   "outputs": [
    {
     "data": {
      "text/html": [
       "<div>\n",
       "<style scoped>\n",
       "    .dataframe tbody tr th:only-of-type {\n",
       "        vertical-align: middle;\n",
       "    }\n",
       "\n",
       "    .dataframe tbody tr th {\n",
       "        vertical-align: top;\n",
       "    }\n",
       "\n",
       "    .dataframe thead th {\n",
       "        text-align: right;\n",
       "    }\n",
       "</style>\n",
       "<table border=\"1\" class=\"dataframe\">\n",
       "  <thead>\n",
       "    <tr style=\"text-align: right;\">\n",
       "      <th></th>\n",
       "      <th>id</th>\n",
       "      <th>author</th>\n",
       "      <th>source</th>\n",
       "      <th>content</th>\n",
       "      <th>feature</th>\n",
       "      <th>title</th>\n",
       "      <th>url</th>\n",
       "    </tr>\n",
       "  </thead>\n",
       "  <tbody>\n",
       "    <tr>\n",
       "      <th>0</th>\n",
       "      <td>89617</td>\n",
       "      <td>NaN</td>\n",
       "      <td>快科技@http://www.kkj.cn/</td>\n",
       "      <td>此外，自本周（6月12日）起，除小米手机6等15款机型外，其余机型已暂停更新发布（含开发版/...</td>\n",
       "      <td>{\"type\":\"科技\",\"site\":\"cnbeta\",\"commentNum\":\"37\"...</td>\n",
       "      <td>小米MIUI 9首批机型曝光：共计15款</td>\n",
       "      <td>http://www.cnbeta.com/articles/tech/623597.htm</td>\n",
       "    </tr>\n",
       "    <tr>\n",
       "      <th>1</th>\n",
       "      <td>89616</td>\n",
       "      <td>NaN</td>\n",
       "      <td>快科技@http://www.kkj.cn/</td>\n",
       "      <td>骁龙835作为唯一通过Windows 10桌面平台认证的ARM处理器，高通强调，不会因为只考...</td>\n",
       "      <td>{\"type\":\"科技\",\"site\":\"cnbeta\",\"commentNum\":\"15\"...</td>\n",
       "      <td>骁龙835在Windows 10上的性能表现有望改善</td>\n",
       "      <td>http://www.cnbeta.com/articles/tech/623599.htm</td>\n",
       "    </tr>\n",
       "    <tr>\n",
       "      <th>2</th>\n",
       "      <td>89615</td>\n",
       "      <td>NaN</td>\n",
       "      <td>快科技@http://www.kkj.cn/</td>\n",
       "      <td>此前的一加3T搭载的是3400mAh电池，DashCharge快充规格为5V/4A。\\r\\n...</td>\n",
       "      <td>{\"type\":\"科技\",\"site\":\"cnbeta\",\"commentNum\":\"18\"...</td>\n",
       "      <td>一加手机5细节曝光：3300mAh、充半小时用1天</td>\n",
       "      <td>http://www.cnbeta.com/articles/tech/623601.htm</td>\n",
       "    </tr>\n",
       "  </tbody>\n",
       "</table>\n",
       "</div>"
      ],
      "text/plain": [
       "      id author                  source  \\\n",
       "0  89617    NaN  快科技@http://www.kkj.cn/   \n",
       "1  89616    NaN  快科技@http://www.kkj.cn/   \n",
       "2  89615    NaN  快科技@http://www.kkj.cn/   \n",
       "\n",
       "                                             content  \\\n",
       "0  此外，自本周（6月12日）起，除小米手机6等15款机型外，其余机型已暂停更新发布（含开发版/...   \n",
       "1  骁龙835作为唯一通过Windows 10桌面平台认证的ARM处理器，高通强调，不会因为只考...   \n",
       "2  此前的一加3T搭载的是3400mAh电池，DashCharge快充规格为5V/4A。\\r\\n...   \n",
       "\n",
       "                                             feature  \\\n",
       "0  {\"type\":\"科技\",\"site\":\"cnbeta\",\"commentNum\":\"37\"...   \n",
       "1  {\"type\":\"科技\",\"site\":\"cnbeta\",\"commentNum\":\"15\"...   \n",
       "2  {\"type\":\"科技\",\"site\":\"cnbeta\",\"commentNum\":\"18\"...   \n",
       "\n",
       "                        title                                             url  \n",
       "0        小米MIUI 9首批机型曝光：共计15款  http://www.cnbeta.com/articles/tech/623597.htm  \n",
       "1  骁龙835在Windows 10上的性能表现有望改善  http://www.cnbeta.com/articles/tech/623599.htm  \n",
       "2   一加手机5细节曝光：3300mAh、充半小时用1天  http://www.cnbeta.com/articles/tech/623601.htm  "
      ]
     },
     "execution_count": 2,
     "metadata": {},
     "output_type": "execute_result"
    }
   ],
   "source": [
    "data = pd.read_csv('sqlResult_1558435.csv', encoding='gb18030')\n",
    "data[:3]"
   ]
  },
  {
   "cell_type": "code",
   "execution_count": 3,
   "metadata": {},
   "outputs": [
    {
     "data": {
      "text/plain": [
       "1    78661\n",
       "0    10950\n",
       "Name: publisher, dtype: int64"
      ]
     },
     "execution_count": 3,
     "metadata": {},
     "output_type": "execute_result"
    }
   ],
   "source": [
    "# 查看source是新华社和非新华社的比例\n",
    "data['publisher'] = np.where(data['source'] == '新华社', 1, 0)\n",
    "data['publisher'].value_counts()"
   ]
  },
  {
   "cell_type": "code",
   "execution_count": 4,
   "metadata": {},
   "outputs": [
    {
     "name": "stderr",
     "output_type": "stream",
     "text": [
      "Building prefix dict from the default dictionary ...\n",
      "Loading model from cache /var/folders/x7/q7pcyqcj37l3psvcymyg7pqc0000gn/T/jieba.cache\n",
      "Loading model cost 0.699 seconds.\n",
      "Prefix dict has been built successfully.\n"
     ]
    }
   ],
   "source": [
    "# 去掉content中的NAN\n",
    "data.dropna(subset=['content'], inplace=True)\n",
    "# 分词处理\n",
    "stopword = [word.strip() for word in open('百度停用词表.txt') if word.strip != '']\n",
    "sentences = []\n",
    "for content in data['content']:\n",
    "    sentence = [word for word in jieba.cut(content) if word not in stopword and word not in ['\\u3000', '\\n','\\r\\n']]\n",
    "    sentences.append(sentence)\n",
    "    \n",
    "with open('cutwords.txt', 'w', encoding='utf-8') as f:\n",
    "    for sentence in sentences:\n",
    "       f.write(' '.join(sentence) + '\\n')"
   ]
  },
  {
   "cell_type": "code",
   "execution_count": 5,
   "metadata": {},
   "outputs": [],
   "source": [
    "with open('cutwords.txt','r') as f:\n",
    "    sentences = [line.split() for line in f]"
   ]
  },
  {
   "cell_type": "markdown",
   "metadata": {},
   "source": [
    "# TF-IDF,朴素贝叶斯"
   ]
  },
  {
   "cell_type": "code",
   "execution_count": 9,
   "metadata": {},
   "outputs": [
    {
     "name": "stderr",
     "output_type": "stream",
     "text": [
      "IOPub data rate exceeded.\n",
      "The notebook server will temporarily stop sending output\n",
      "to the client in order to avoid crashing it.\n",
      "To change this limit, set the config variable\n",
      "`--NotebookApp.iopub_data_rate_limit`.\n",
      "\n",
      "Current values:\n",
      "NotebookApp.iopub_data_rate_limit=1000000.0 (bytes/sec)\n",
      "NotebookApp.rate_limit_window=3.0 (secs)\n",
      "\n"
     ]
    },
    {
     "name": "stdout",
     "output_type": "stream",
     "text": [
      "训练集X数量为：69643\n",
      "测试集X数量为：17411\n"
     ]
    }
   ],
   "source": [
    "tfidf_model = TfidfVectorizer(sentences, min_df= 50, max_df= 0.3)\n",
    "\n",
    "X = tfidf_model.fit_transform(data['content'])\n",
    "Y = data['publisher'].values\n",
    "# 分层抽样划分数据集\n",
    "train_x, test_x, train_y, test_y = train_test_split(X, Y, test_size= 0.2, stratify= Y)\n",
    "print(f'训练集X数量为：{train_x.shape[0]}')\n",
    "print(f'测试集X数量为：{test_x.shape[0]}')"
   ]
  },
  {
   "cell_type": "code",
   "execution_count": 12,
   "metadata": {},
   "outputs": [
    {
     "name": "stdout",
     "output_type": "stream",
     "text": [
      "Accuracy with Navie Bayes: 0.9503187639997702 \n",
      "\n",
      "              precision    recall  f1-score   support\n",
      "\n",
      "        非新华社       0.73      0.78      0.75      1679\n",
      "         新华社       0.98      0.97      0.97     15732\n",
      "\n",
      "    accuracy                           0.95     17411\n",
      "   macro avg       0.85      0.87      0.86     17411\n",
      "weighted avg       0.95      0.95      0.95     17411\n",
      "\n"
     ]
    },
    {
     "data": {
      "text/html": [
       "<div>\n",
       "<style scoped>\n",
       "    .dataframe tbody tr th:only-of-type {\n",
       "        vertical-align: middle;\n",
       "    }\n",
       "\n",
       "    .dataframe tbody tr th {\n",
       "        vertical-align: top;\n",
       "    }\n",
       "\n",
       "    .dataframe thead th {\n",
       "        text-align: right;\n",
       "    }\n",
       "</style>\n",
       "<table border=\"1\" class=\"dataframe\">\n",
       "  <thead>\n",
       "    <tr style=\"text-align: right;\">\n",
       "      <th></th>\n",
       "      <th>非新华社</th>\n",
       "      <th>新华社</th>\n",
       "    </tr>\n",
       "  </thead>\n",
       "  <tbody>\n",
       "    <tr>\n",
       "      <th>非新华社</th>\n",
       "      <td>1305</td>\n",
       "      <td>374</td>\n",
       "    </tr>\n",
       "    <tr>\n",
       "      <th>新华社</th>\n",
       "      <td>491</td>\n",
       "      <td>15241</td>\n",
       "    </tr>\n",
       "  </tbody>\n",
       "</table>\n",
       "</div>"
      ],
      "text/plain": [
       "      非新华社    新华社\n",
       "非新华社  1305    374\n",
       "新华社    491  15241"
      ]
     },
     "execution_count": 12,
     "metadata": {},
     "output_type": "execute_result"
    }
   ],
   "source": [
    "from sklearn.naive_bayes import MultinomialNB\n",
    "\n",
    "bayes_model = MultinomialNB()\n",
    "bayes_model.fit(train_x, train_y)\n",
    "print(f'Accuracy with Navie Bayes: {bayes_model.score(test_x, test_y)}','\\n')\n",
    "\n",
    "y_pred_bayes = bayes_model.predict(test_x)\n",
    "print(classification_report(test_y, y_pred_bayes, target_names= ['非新华社','新华社']))\n",
    "pd.DataFrame(confusion_matrix(test_y, y_pred_bayes), columns= ['非新华社','新华社'], index= ['非新华社','新华社'])"
   ]
  },
  {
   "cell_type": "code",
   "execution_count": 14,
   "metadata": {},
   "outputs": [
    {
     "name": "stdout",
     "output_type": "stream",
     "text": [
      "Accuracy with Naive Bayes: 0.8656022055022686\n",
      "              precision    recall  f1-score   support\n",
      "\n",
      "        非新华社       0.42      0.97      0.58      1679\n",
      "         新华社       1.00      0.85      0.92     15732\n",
      "\n",
      "    accuracy                           0.87     17411\n",
      "   macro avg       0.71      0.91      0.75     17411\n",
      "weighted avg       0.94      0.87      0.89     17411\n",
      "\n"
     ]
    },
    {
     "data": {
      "text/html": [
       "<div>\n",
       "<style scoped>\n",
       "    .dataframe tbody tr th:only-of-type {\n",
       "        vertical-align: middle;\n",
       "    }\n",
       "\n",
       "    .dataframe tbody tr th {\n",
       "        vertical-align: top;\n",
       "    }\n",
       "\n",
       "    .dataframe thead th {\n",
       "        text-align: right;\n",
       "    }\n",
       "</style>\n",
       "<table border=\"1\" class=\"dataframe\">\n",
       "  <thead>\n",
       "    <tr style=\"text-align: right;\">\n",
       "      <th></th>\n",
       "      <th>非新华社</th>\n",
       "      <th>新华社</th>\n",
       "    </tr>\n",
       "  </thead>\n",
       "  <tbody>\n",
       "    <tr>\n",
       "      <th>非新华社</th>\n",
       "      <td>1632</td>\n",
       "      <td>47</td>\n",
       "    </tr>\n",
       "    <tr>\n",
       "      <th>新华社</th>\n",
       "      <td>2293</td>\n",
       "      <td>13439</td>\n",
       "    </tr>\n",
       "  </tbody>\n",
       "</table>\n",
       "</div>"
      ],
      "text/plain": [
       "      非新华社    新华社\n",
       "非新华社  1632     47\n",
       "新华社   2293  13439"
      ]
     },
     "execution_count": 14,
     "metadata": {},
     "output_type": "execute_result"
    }
   ],
   "source": [
    "# 数据不平衡，新华社非新华社分类效果不好。 试用SMOTE采样\n",
    "X_smote1, Y_smote1 = SMOTE().fit_sample(train_x, train_y)\n",
    "bayes_model.fit(X_smote1, Y_smote1)\n",
    "print(f'Accuracy with Naive Bayes: {bayes_model.score(test_x, test_y)}')\n",
    "\n",
    "y_pred_bayes = bayes_model.predict(test_x)\n",
    "print(classification_report(test_y, y_pred_bayes, target_names=['非新华社', '新华社']))\n",
    "pd.DataFrame(confusion_matrix(test_y, y_pred_bayes), columns=['非新华社', '新华社'], index=['非新华社', '新华社'])"
   ]
  },
  {
   "cell_type": "code",
   "execution_count": 15,
   "metadata": {},
   "outputs": [
    {
     "name": "stdout",
     "output_type": "stream",
     "text": [
      "Accuracy with Naive Bayes: 0.8556085233473092\n",
      "              precision    recall  f1-score   support\n",
      "\n",
      "        非新华社       0.40      0.98      0.57      1679\n",
      "         新华社       1.00      0.84      0.91     15732\n",
      "\n",
      "    accuracy                           0.86     17411\n",
      "   macro avg       0.70      0.91      0.74     17411\n",
      "weighted avg       0.94      0.86      0.88     17411\n",
      "\n"
     ]
    },
    {
     "data": {
      "text/html": [
       "<div>\n",
       "<style scoped>\n",
       "    .dataframe tbody tr th:only-of-type {\n",
       "        vertical-align: middle;\n",
       "    }\n",
       "\n",
       "    .dataframe tbody tr th {\n",
       "        vertical-align: top;\n",
       "    }\n",
       "\n",
       "    .dataframe thead th {\n",
       "        text-align: right;\n",
       "    }\n",
       "</style>\n",
       "<table border=\"1\" class=\"dataframe\">\n",
       "  <thead>\n",
       "    <tr style=\"text-align: right;\">\n",
       "      <th></th>\n",
       "      <th>非新华社</th>\n",
       "      <th>新华社</th>\n",
       "    </tr>\n",
       "  </thead>\n",
       "  <tbody>\n",
       "    <tr>\n",
       "      <th>非新华社</th>\n",
       "      <td>1645</td>\n",
       "      <td>34</td>\n",
       "    </tr>\n",
       "    <tr>\n",
       "      <th>新华社</th>\n",
       "      <td>2480</td>\n",
       "      <td>13252</td>\n",
       "    </tr>\n",
       "  </tbody>\n",
       "</table>\n",
       "</div>"
      ],
      "text/plain": [
       "      非新华社    新华社\n",
       "非新华社  1645     34\n",
       "新华社   2480  13252"
      ]
     },
     "execution_count": 15,
     "metadata": {},
     "output_type": "execute_result"
    }
   ],
   "source": [
    "X_smote2, Y_smote2 = BorderlineSMOTE(kind='borderline-1').fit_sample(train_x, train_y)\n",
    "bayes_model.fit(X_smote2, Y_smote2)\n",
    "print(f'Accuracy with Naive Bayes: {bayes_model.score(test_x, test_y)}')\n",
    "\n",
    "y_pred_bayes = bayes_model.predict(test_x)\n",
    "print(classification_report(test_y, y_pred_bayes, target_names=['非新华社', '新华社']))\n",
    "pd.DataFrame(confusion_matrix(test_y, y_pred_bayes), columns=['非新华社', '新华社'], index=['非新华社', '新华社'])"
   ]
  },
  {
   "cell_type": "code",
   "execution_count": 16,
   "metadata": {},
   "outputs": [
    {
     "name": "stdout",
     "output_type": "stream",
     "text": [
      "Accuracy with Naive Bayes: 0.8605479294698754\n",
      "              precision    recall  f1-score   support\n",
      "\n",
      "        非新华社       0.40      0.92      0.56      1679\n",
      "         新华社       0.99      0.85      0.92     15732\n",
      "\n",
      "    accuracy                           0.86     17411\n",
      "   macro avg       0.70      0.89      0.74     17411\n",
      "weighted avg       0.93      0.86      0.88     17411\n",
      "\n"
     ]
    },
    {
     "data": {
      "text/html": [
       "<div>\n",
       "<style scoped>\n",
       "    .dataframe tbody tr th:only-of-type {\n",
       "        vertical-align: middle;\n",
       "    }\n",
       "\n",
       "    .dataframe tbody tr th {\n",
       "        vertical-align: top;\n",
       "    }\n",
       "\n",
       "    .dataframe thead th {\n",
       "        text-align: right;\n",
       "    }\n",
       "</style>\n",
       "<table border=\"1\" class=\"dataframe\">\n",
       "  <thead>\n",
       "    <tr style=\"text-align: right;\">\n",
       "      <th></th>\n",
       "      <th>非新华社</th>\n",
       "      <th>新华社</th>\n",
       "    </tr>\n",
       "  </thead>\n",
       "  <tbody>\n",
       "    <tr>\n",
       "      <th>非新华社</th>\n",
       "      <td>1540</td>\n",
       "      <td>139</td>\n",
       "    </tr>\n",
       "    <tr>\n",
       "      <th>新华社</th>\n",
       "      <td>2289</td>\n",
       "      <td>13443</td>\n",
       "    </tr>\n",
       "  </tbody>\n",
       "</table>\n",
       "</div>"
      ],
      "text/plain": [
       "      非新华社    新华社\n",
       "非新华社  1540    139\n",
       "新华社   2289  13443"
      ]
     },
     "execution_count": 16,
     "metadata": {},
     "output_type": "execute_result"
    }
   ],
   "source": [
    "X_smote3, Y_smote3 = BorderlineSMOTE(kind='borderline-2').fit_sample(train_x, train_y)\n",
    "bayes_model.fit(X_smote3, Y_smote3)\n",
    "print(f'Accuracy with Naive Bayes: {bayes_model.score(test_x, test_y)}')\n",
    "\n",
    "y_pred_bayes = bayes_model.predict(test_x)\n",
    "print(classification_report(test_y, y_pred_bayes, target_names=['非新华社', '新华社']))\n",
    "pd.DataFrame(confusion_matrix(test_y, y_pred_bayes), columns=['非新华社', '新华社'], index=['非新华社', '新华社'])"
   ]
  },
  {
   "cell_type": "markdown",
   "metadata": {},
   "source": [
    "### 使用SMOTE总体上Accuracy会降低，但对于非新华社的recall会提升"
   ]
  },
  {
   "cell_type": "markdown",
   "metadata": {},
   "source": [
    "### Congratulations! You have completed all assignments in this week. The question below is optional. If you still have time, why don't try it out."
   ]
  },
  {
   "cell_type": "markdown",
   "metadata": {},
   "source": [
    "## Option:"
   ]
  },
  {
   "cell_type": "markdown",
   "metadata": {},
   "source": [
    "#### Try differnt machine learning algorithms with different combinations of parameters in the practical part, and compare their performances (Better use some visualization techiniques)."
   ]
  },
  {
   "cell_type": "markdown",
   "metadata": {},
   "source": [
    "# 逻辑回归模型"
   ]
  },
  {
   "cell_type": "code",
   "execution_count": 19,
   "metadata": {},
   "outputs": [
    {
     "name": "stdout",
     "output_type": "stream",
     "text": [
      "Accuracy with LogisticRegression: 0.9083912469128712\n",
      "              precision    recall  f1-score   support\n",
      "\n",
      "        非新华社       0.51      0.92      0.66      1679\n",
      "         新华社       0.99      0.91      0.95     15732\n",
      "\n",
      "    accuracy                           0.91     17411\n",
      "   macro avg       0.75      0.91      0.80     17411\n",
      "weighted avg       0.94      0.91      0.92     17411\n",
      "\n"
     ]
    },
    {
     "data": {
      "text/html": [
       "<div>\n",
       "<style scoped>\n",
       "    .dataframe tbody tr th:only-of-type {\n",
       "        vertical-align: middle;\n",
       "    }\n",
       "\n",
       "    .dataframe tbody tr th {\n",
       "        vertical-align: top;\n",
       "    }\n",
       "\n",
       "    .dataframe thead th {\n",
       "        text-align: right;\n",
       "    }\n",
       "</style>\n",
       "<table border=\"1\" class=\"dataframe\">\n",
       "  <thead>\n",
       "    <tr style=\"text-align: right;\">\n",
       "      <th></th>\n",
       "      <th>非新华社</th>\n",
       "      <th>新华社</th>\n",
       "    </tr>\n",
       "  </thead>\n",
       "  <tbody>\n",
       "    <tr>\n",
       "      <th>非新华社</th>\n",
       "      <td>1538</td>\n",
       "      <td>141</td>\n",
       "    </tr>\n",
       "    <tr>\n",
       "      <th>新华社</th>\n",
       "      <td>1454</td>\n",
       "      <td>14278</td>\n",
       "    </tr>\n",
       "  </tbody>\n",
       "</table>\n",
       "</div>"
      ],
      "text/plain": [
       "      非新华社    新华社\n",
       "非新华社  1538    141\n",
       "新华社   1454  14278"
      ]
     },
     "execution_count": 19,
     "metadata": {},
     "output_type": "execute_result"
    }
   ],
   "source": [
    "from sklearn.linear_model import LogisticRegressionCV\n",
    "\n",
    "C = [1, 10, 100, 1000]\n",
    "lr_model = LogisticRegressionCV(Cs= C, class_weight= 'balanced')\n",
    "lr_model.fit(train_x, train_y)\n",
    "print(f'Accuracy with LogisticRegression: {lr_model.score(test_x, test_y)}')\n",
    "y_pred_bayes = lr_model.predict(test_x)\n",
    "print(classification_report(test_y, y_pred_bayes, target_names=['非新华社', '新华社']))\n",
    "pd.DataFrame(confusion_matrix(test_y, y_pred_bayes), columns=['非新华社', '新华社'], index=['非新华社', '新华社'])"
   ]
  },
  {
   "cell_type": "code",
   "execution_count": 20,
   "metadata": {},
   "outputs": [
    {
     "name": "stdout",
     "output_type": "stream",
     "text": [
      "Accuracy with LogisticRegression: 0.9104589052897594\n",
      "              precision    recall  f1-score   support\n",
      "\n",
      "        非新华社       0.52      0.91      0.66      1679\n",
      "         新华社       0.99      0.91      0.95     15732\n",
      "\n",
      "    accuracy                           0.91     17411\n",
      "   macro avg       0.75      0.91      0.81     17411\n",
      "weighted avg       0.94      0.91      0.92     17411\n",
      "\n"
     ]
    },
    {
     "data": {
      "text/html": [
       "<div>\n",
       "<style scoped>\n",
       "    .dataframe tbody tr th:only-of-type {\n",
       "        vertical-align: middle;\n",
       "    }\n",
       "\n",
       "    .dataframe tbody tr th {\n",
       "        vertical-align: top;\n",
       "    }\n",
       "\n",
       "    .dataframe thead th {\n",
       "        text-align: right;\n",
       "    }\n",
       "</style>\n",
       "<table border=\"1\" class=\"dataframe\">\n",
       "  <thead>\n",
       "    <tr style=\"text-align: right;\">\n",
       "      <th></th>\n",
       "      <th>非新华社</th>\n",
       "      <th>新华社</th>\n",
       "    </tr>\n",
       "  </thead>\n",
       "  <tbody>\n",
       "    <tr>\n",
       "      <th>非新华社</th>\n",
       "      <td>1525</td>\n",
       "      <td>154</td>\n",
       "    </tr>\n",
       "    <tr>\n",
       "      <th>新华社</th>\n",
       "      <td>1405</td>\n",
       "      <td>14327</td>\n",
       "    </tr>\n",
       "  </tbody>\n",
       "</table>\n",
       "</div>"
      ],
      "text/plain": [
       "      非新华社    新华社\n",
       "非新华社  1525    154\n",
       "新华社   1405  14327"
      ]
     },
     "execution_count": 20,
     "metadata": {},
     "output_type": "execute_result"
    }
   ],
   "source": [
    "lr_model.fit(X_smote2, Y_smote2)\n",
    "print(f'Accuracy with LogisticRegression: {lr_model.score(test_x, test_y)}')\n",
    "y_pred_lr = lr_model.predict(test_x)\n",
    "print(classification_report(test_y, y_pred_lr, target_names=['非新华社', '新华社']))\n",
    "pd.DataFrame(confusion_matrix(test_y, y_pred_lr), columns=['非新华社', '新华社'], index=['非新华社', '新华社'])"
   ]
  },
  {
   "cell_type": "markdown",
   "metadata": {},
   "source": [
    "### 支持向量机 SVM"
   ]
  },
  {
   "cell_type": "code",
   "execution_count": 36,
   "metadata": {},
   "outputs": [
    {
     "data": {
      "text/plain": [
       "GridSearchCV(cv=StratifiedKFold(n_splits=5, random_state=None, shuffle=True),\n",
       "             estimator=SVC(),\n",
       "             param_grid={'C': [0.1, 1, 10, 100], 'class_weight': ['balanced'],\n",
       "                         'kernel': ['linear', 'rbf']})"
      ]
     },
     "execution_count": 36,
     "metadata": {},
     "output_type": "execute_result"
    }
   ],
   "source": [
    "from sklearn.svm import SVC\n",
    "from sklearn.model_selection import GridSearchCV, StratifiedKFold\n",
    "\n",
    "svc_param = {'C': [0.1, 1, 10, 100],\n",
    "         'kernel': ['linear', 'rbf'],\n",
    "         'class_weight': ['balanced']}\n",
    "\n",
    "cv = StratifiedKFold(shuffle=True)\n",
    "clf = SVC()\n",
    "cv_svc = GridSearchCV(clf, svc_param, cv=cv)\n",
    "cv_svc.fit(train_x, train_y)"
   ]
  },
  {
   "cell_type": "code",
   "execution_count": 37,
   "metadata": {},
   "outputs": [
    {
     "data": {
      "text/plain": [
       "{'C': 100, 'class_weight': 'balanced', 'kernel': 'rbf'}"
      ]
     },
     "execution_count": 37,
     "metadata": {},
     "output_type": "execute_result"
    }
   ],
   "source": [
    "cv_svc.best_params_"
   ]
  },
  {
   "cell_type": "code",
   "execution_count": 38,
   "metadata": {},
   "outputs": [
    {
     "name": "stdout",
     "output_type": "stream",
     "text": [
      "Accuracy with SVM: 0.9256217333869393\n",
      "              precision    recall  f1-score   support\n",
      "\n",
      "        非新华社       0.58      0.83      0.68      1679\n",
      "         新华社       0.98      0.94      0.96     15732\n",
      "\n",
      "    accuracy                           0.93     17411\n",
      "   macro avg       0.78      0.88      0.82     17411\n",
      "weighted avg       0.94      0.93      0.93     17411\n",
      "\n"
     ]
    },
    {
     "data": {
      "text/html": [
       "<div>\n",
       "<style scoped>\n",
       "    .dataframe tbody tr th:only-of-type {\n",
       "        vertical-align: middle;\n",
       "    }\n",
       "\n",
       "    .dataframe tbody tr th {\n",
       "        vertical-align: top;\n",
       "    }\n",
       "\n",
       "    .dataframe thead th {\n",
       "        text-align: right;\n",
       "    }\n",
       "</style>\n",
       "<table border=\"1\" class=\"dataframe\">\n",
       "  <thead>\n",
       "    <tr style=\"text-align: right;\">\n",
       "      <th></th>\n",
       "      <th>非新华社</th>\n",
       "      <th>新华社</th>\n",
       "    </tr>\n",
       "  </thead>\n",
       "  <tbody>\n",
       "    <tr>\n",
       "      <th>非新华社</th>\n",
       "      <td>1393</td>\n",
       "      <td>286</td>\n",
       "    </tr>\n",
       "    <tr>\n",
       "      <th>新华社</th>\n",
       "      <td>1009</td>\n",
       "      <td>14723</td>\n",
       "    </tr>\n",
       "  </tbody>\n",
       "</table>\n",
       "</div>"
      ],
      "text/plain": [
       "      非新华社    新华社\n",
       "非新华社  1393    286\n",
       "新华社   1009  14723"
      ]
     },
     "execution_count": 38,
     "metadata": {},
     "output_type": "execute_result"
    }
   ],
   "source": [
    "svc_model = SVC(C=10, class_weight='balanced', kernel='rbf')\n",
    "svc_model.fit(train_x, train_y)\n",
    "print(f'Accuracy with SVM: {svc_model.score(test_x, test_y)}')\n",
    "y_pred_bayes = svc_model.predict(test_x)\n",
    "print(classification_report(test_y, y_pred_bayes, target_names=['非新华社', '新华社']))\n",
    "pd.DataFrame(confusion_matrix(test_y, y_pred_bayes), columns=['非新华社', '新华社'], index=['非新华社', '新华社'])"
   ]
  },
  {
   "cell_type": "code",
   "execution_count": 39,
   "metadata": {},
   "outputs": [
    {
     "name": "stdout",
     "output_type": "stream",
     "text": [
      "Accuracy with SVM: 0.9275745218540004\n",
      "              precision    recall  f1-score   support\n",
      "\n",
      "        非新华社       0.59      0.82      0.69      1679\n",
      "         新华社       0.98      0.94      0.96     15732\n",
      "\n",
      "    accuracy                           0.93     17411\n",
      "   macro avg       0.78      0.88      0.82     17411\n",
      "weighted avg       0.94      0.93      0.93     17411\n",
      "\n"
     ]
    },
    {
     "data": {
      "text/html": [
       "<div>\n",
       "<style scoped>\n",
       "    .dataframe tbody tr th:only-of-type {\n",
       "        vertical-align: middle;\n",
       "    }\n",
       "\n",
       "    .dataframe tbody tr th {\n",
       "        vertical-align: top;\n",
       "    }\n",
       "\n",
       "    .dataframe thead th {\n",
       "        text-align: right;\n",
       "    }\n",
       "</style>\n",
       "<table border=\"1\" class=\"dataframe\">\n",
       "  <thead>\n",
       "    <tr style=\"text-align: right;\">\n",
       "      <th></th>\n",
       "      <th>非新华社</th>\n",
       "      <th>新华社</th>\n",
       "    </tr>\n",
       "  </thead>\n",
       "  <tbody>\n",
       "    <tr>\n",
       "      <th>非新华社</th>\n",
       "      <td>1375</td>\n",
       "      <td>304</td>\n",
       "    </tr>\n",
       "    <tr>\n",
       "      <th>新华社</th>\n",
       "      <td>957</td>\n",
       "      <td>14775</td>\n",
       "    </tr>\n",
       "  </tbody>\n",
       "</table>\n",
       "</div>"
      ],
      "text/plain": [
       "      非新华社    新华社\n",
       "非新华社  1375    304\n",
       "新华社    957  14775"
      ]
     },
     "execution_count": 39,
     "metadata": {},
     "output_type": "execute_result"
    }
   ],
   "source": [
    "svc_model.fit(X_smote2, Y_smote2)\n",
    "print(f'Accuracy with SVM: {svc_model.score(test_x, test_y)}')\n",
    "y_pred_svm = svc_model.predict(test_x)\n",
    "print(classification_report(test_y, y_pred_svm, target_names=['非新华社', '新华社']))\n",
    "pd.DataFrame(confusion_matrix(test_y, y_pred_svm), columns=['非新华社', '新华社'], index=['非新华社', '新华社'])"
   ]
  },
  {
   "cell_type": "markdown",
   "metadata": {},
   "source": [
    "### 随机森林模型"
   ]
  },
  {
   "cell_type": "code",
   "execution_count": 26,
   "metadata": {},
   "outputs": [
    {
     "data": {
      "text/plain": [
       "GridSearchCV(cv=StratifiedKFold(n_splits=5, random_state=None, shuffle=True),\n",
       "             estimator=RandomForestClassifier(),\n",
       "             param_grid={'max_depth': [14], 'min_samples_split': [18],\n",
       "                         'n_estimators': [200, 400, 600]})"
      ]
     },
     "execution_count": 26,
     "metadata": {},
     "output_type": "execute_result"
    }
   ],
   "source": [
    "from sklearn.ensemble import RandomForestClassifier\n",
    "\n",
    "# 先对n_estimators调参\n",
    "rf_param = {'n_estimators': [200, 400, 600],\n",
    "         'min_samples_split': [18],\n",
    "         'max_depth' : [14]}\n",
    "\n",
    "cv = StratifiedKFold(shuffle=True)\n",
    "clf = RandomForestClassifier()\n",
    "cv_rf = GridSearchCV(clf, rf_param, cv=cv)\n",
    "cv_rf.fit(train_x, train_y)"
   ]
  },
  {
   "cell_type": "code",
   "execution_count": 27,
   "metadata": {},
   "outputs": [
    {
     "name": "stdout",
     "output_type": "stream",
     "text": [
      "{'max_depth': 14, 'min_samples_split': 18, 'n_estimators': 200}\n",
      "0.9132145220433371\n"
     ]
    }
   ],
   "source": [
    "print(cv_rf.best_params_)\n",
    "print(cv_rf.best_score_)"
   ]
  },
  {
   "cell_type": "code",
   "execution_count": 28,
   "metadata": {},
   "outputs": [
    {
     "data": {
      "text/plain": [
       "GridSearchCV(cv=StratifiedKFold(n_splits=5, random_state=None, shuffle=True),\n",
       "             estimator=RandomForestClassifier(),\n",
       "             param_grid={'max_depth': [260, 270, 280],\n",
       "                         'min_samples_split': [36, 40, 44],\n",
       "                         'n_estimators': [200]})"
      ]
     },
     "execution_count": 28,
     "metadata": {},
     "output_type": "execute_result"
    }
   ],
   "source": [
    "# 固定n_estimators，对min_samples_split与max_depth调参\n",
    "# 经过多次调参，最后确定的参数如下：\n",
    "rf_param = {'n_estimators': [200],\n",
    "         'min_samples_split': [36, 40, 44],\n",
    "         'max_depth' : [260, 270, 280]}\n",
    "\n",
    "cv = StratifiedKFold(shuffle=True)\n",
    "clf = RandomForestClassifier()\n",
    "cv_rf = GridSearchCV(clf, rf_param, cv=cv)\n",
    "cv_rf.fit(train_x, train_y)"
   ]
  },
  {
   "cell_type": "code",
   "execution_count": 29,
   "metadata": {},
   "outputs": [
    {
     "name": "stdout",
     "output_type": "stream",
     "text": [
      "{'max_depth': 270, 'min_samples_split': 36, 'n_estimators': 200}\n",
      "0.959507791813154\n"
     ]
    }
   ],
   "source": [
    "print(cv_rf.best_params_)\n",
    "print(cv_rf.best_score_)"
   ]
  },
  {
   "cell_type": "code",
   "execution_count": 30,
   "metadata": {},
   "outputs": [
    {
     "data": {
      "text/plain": [
       "GridSearchCV(cv=StratifiedKFold(n_splits=5, random_state=None, shuffle=True),\n",
       "             estimator=RandomForestClassifier(),\n",
       "             param_grid={'max_depth': [280],\n",
       "                         'max_features': ['auto', 'sqrt', 'log2'],\n",
       "                         'min_samples_split': [36], 'n_estimators': [200]})"
      ]
     },
     "execution_count": 30,
     "metadata": {},
     "output_type": "execute_result"
    }
   ],
   "source": [
    "# 对max_features调参\n",
    "rf_param = {'n_estimators': [200],\n",
    "         'min_samples_split': [36],\n",
    "         'max_depth': [280],\n",
    "         'max_features': [\"auto\", \"sqrt\", \"log2\"]}\n",
    "\n",
    "cv = StratifiedKFold(shuffle=True)\n",
    "clf = RandomForestClassifier()\n",
    "cv_rf = GridSearchCV(clf, rf_param, cv=cv)\n",
    "cv_rf.fit(train_x, train_y)"
   ]
  },
  {
   "cell_type": "code",
   "execution_count": 31,
   "metadata": {},
   "outputs": [
    {
     "name": "stdout",
     "output_type": "stream",
     "text": [
      "{'max_depth': 280, 'max_features': 'sqrt', 'min_samples_split': 36, 'n_estimators': 200}\n",
      "0.9593929070581094\n"
     ]
    }
   ],
   "source": [
    "print(cv_rf.best_params_)\n",
    "print(cv_rf.best_score_)"
   ]
  },
  {
   "cell_type": "code",
   "execution_count": 32,
   "metadata": {},
   "outputs": [
    {
     "data": {
      "text/plain": [
       "RandomForestClassifier(max_depth=280, min_samples_split=36, n_estimators=200)"
      ]
     },
     "execution_count": 32,
     "metadata": {},
     "output_type": "execute_result"
    }
   ],
   "source": [
    "rf_model = RandomForestClassifier(n_estimators=200, min_samples_split=36, max_features='auto', max_depth=280)\n",
    "rf_model.fit(train_x, train_y)"
   ]
  },
  {
   "cell_type": "code",
   "execution_count": 33,
   "metadata": {},
   "outputs": [
    {
     "name": "stdout",
     "output_type": "stream",
     "text": [
      "Accuracy with RandomForest: 0.9611165355235196\n",
      "              precision    recall  f1-score   support\n",
      "\n",
      "        非新华社       0.92      0.66      0.76      1679\n",
      "         新华社       0.96      0.99      0.98     15732\n",
      "\n",
      "    accuracy                           0.96     17411\n",
      "   macro avg       0.94      0.82      0.87     17411\n",
      "weighted avg       0.96      0.96      0.96     17411\n",
      "\n"
     ]
    },
    {
     "data": {
      "text/html": [
       "<div>\n",
       "<style scoped>\n",
       "    .dataframe tbody tr th:only-of-type {\n",
       "        vertical-align: middle;\n",
       "    }\n",
       "\n",
       "    .dataframe tbody tr th {\n",
       "        vertical-align: top;\n",
       "    }\n",
       "\n",
       "    .dataframe thead th {\n",
       "        text-align: right;\n",
       "    }\n",
       "</style>\n",
       "<table border=\"1\" class=\"dataframe\">\n",
       "  <thead>\n",
       "    <tr style=\"text-align: right;\">\n",
       "      <th></th>\n",
       "      <th>非新华社</th>\n",
       "      <th>新华社</th>\n",
       "    </tr>\n",
       "  </thead>\n",
       "  <tbody>\n",
       "    <tr>\n",
       "      <th>非新华社</th>\n",
       "      <td>1100</td>\n",
       "      <td>579</td>\n",
       "    </tr>\n",
       "    <tr>\n",
       "      <th>新华社</th>\n",
       "      <td>98</td>\n",
       "      <td>15634</td>\n",
       "    </tr>\n",
       "  </tbody>\n",
       "</table>\n",
       "</div>"
      ],
      "text/plain": [
       "      非新华社    新华社\n",
       "非新华社  1100    579\n",
       "新华社     98  15634"
      ]
     },
     "execution_count": 33,
     "metadata": {},
     "output_type": "execute_result"
    }
   ],
   "source": [
    "print(f'Accuracy with RandomForest: {rf_model.score(test_x, test_y)}')\n",
    "y_pred_bayes = rf_model.predict(test_x)\n",
    "print(classification_report(test_y, y_pred_bayes, target_names=['非新华社', '新华社']))\n",
    "pd.DataFrame(confusion_matrix(test_y, y_pred_bayes), columns=['非新华社', '新华社'], index=['非新华社', '新华社'])"
   ]
  },
  {
   "cell_type": "code",
   "execution_count": 34,
   "metadata": {},
   "outputs": [
    {
     "data": {
      "text/plain": [
       "RandomForestClassifier(max_depth=280, min_samples_split=36, n_estimators=200)"
      ]
     },
     "execution_count": 34,
     "metadata": {},
     "output_type": "execute_result"
    }
   ],
   "source": [
    "rf_model.fit(X_smote2, Y_smote2)"
   ]
  },
  {
   "cell_type": "code",
   "execution_count": 35,
   "metadata": {},
   "outputs": [
    {
     "name": "stdout",
     "output_type": "stream",
     "text": [
      "Accuracy with RandomForest: 0.8996036988110965\n",
      "              precision    recall  f1-score   support\n",
      "\n",
      "        非新华社       0.49      0.91      0.64      1679\n",
      "         新华社       0.99      0.90      0.94     15732\n",
      "\n",
      "    accuracy                           0.90     17411\n",
      "   macro avg       0.74      0.90      0.79     17411\n",
      "weighted avg       0.94      0.90      0.91     17411\n",
      "\n"
     ]
    },
    {
     "data": {
      "text/html": [
       "<div>\n",
       "<style scoped>\n",
       "    .dataframe tbody tr th:only-of-type {\n",
       "        vertical-align: middle;\n",
       "    }\n",
       "\n",
       "    .dataframe tbody tr th {\n",
       "        vertical-align: top;\n",
       "    }\n",
       "\n",
       "    .dataframe thead th {\n",
       "        text-align: right;\n",
       "    }\n",
       "</style>\n",
       "<table border=\"1\" class=\"dataframe\">\n",
       "  <thead>\n",
       "    <tr style=\"text-align: right;\">\n",
       "      <th></th>\n",
       "      <th>非新华社</th>\n",
       "      <th>新华社</th>\n",
       "    </tr>\n",
       "  </thead>\n",
       "  <tbody>\n",
       "    <tr>\n",
       "      <th>非新华社</th>\n",
       "      <td>1526</td>\n",
       "      <td>153</td>\n",
       "    </tr>\n",
       "    <tr>\n",
       "      <th>新华社</th>\n",
       "      <td>1595</td>\n",
       "      <td>14137</td>\n",
       "    </tr>\n",
       "  </tbody>\n",
       "</table>\n",
       "</div>"
      ],
      "text/plain": [
       "      非新华社    新华社\n",
       "非新华社  1526    153\n",
       "新华社   1595  14137"
      ]
     },
     "execution_count": 35,
     "metadata": {},
     "output_type": "execute_result"
    }
   ],
   "source": [
    "print(f'Accuracy with RandomForest: {rf_model.score(test_x, test_y)}')\n",
    "y_pred_rf = rf_model.predict(test_x)\n",
    "print(classification_report(test_y, y_pred_rf, target_names=['非新华社', '新华社']))\n",
    "pd.DataFrame(confusion_matrix(test_y, y_pred_rf), columns=['非新华社', '新华社'], index=['非新华社', '新华社'])"
   ]
  },
  {
   "cell_type": "markdown",
   "metadata": {},
   "source": [
    "## 总结"
   ]
  },
  {
   "cell_type": "code",
   "execution_count": 41,
   "metadata": {},
   "outputs": [
    {
     "data": {
      "text/html": [
       "        <script type=\"text/javascript\">\n",
       "        window.PlotlyConfig = {MathJaxConfig: 'local'};\n",
       "        if (window.MathJax) {MathJax.Hub.Config({SVG: {font: \"STIX-Web\"}});}\n",
       "        if (typeof require !== 'undefined') {\n",
       "        require.undef(\"plotly\");\n",
       "        requirejs.config({\n",
       "            paths: {\n",
       "                'plotly': ['https://cdn.plot.ly/plotly-latest.min']\n",
       "            }\n",
       "        });\n",
       "        require(['plotly'], function(Plotly) {\n",
       "            window._Plotly = Plotly;\n",
       "        });\n",
       "        }\n",
       "        </script>\n",
       "        "
      ]
     },
     "metadata": {},
     "output_type": "display_data"
    }
   ],
   "source": [
    "import cufflinks as cf\n",
    "import matplotlib.pyplot as plt\n",
    "%matplotlib inline\n",
    "cf.set_config_file(offline=True)\n",
    "\n",
    "model_name = ['Bayes', 'LR', 'SVM', 'RF']\n",
    "result = {\n",
    "    'Accuracy': [0.951, 0.909, 0.928, 0.959],\n",
    "    'Accuracy_with_smote': [0.867, 0.913, 0.927, 0.900],\n",
    "    'Recall': [0.77, 0.94, 0.85, 0.64],\n",
    "    'Recall_with_smote': [0.98, 0.92, 0.86, 0.92]\n",
    "        }"
   ]
  },
  {
   "cell_type": "code",
   "execution_count": 42,
   "metadata": {},
   "outputs": [
    {
     "data": {
      "text/html": [
       "<div>\n",
       "<style scoped>\n",
       "    .dataframe tbody tr th:only-of-type {\n",
       "        vertical-align: middle;\n",
       "    }\n",
       "\n",
       "    .dataframe tbody tr th {\n",
       "        vertical-align: top;\n",
       "    }\n",
       "\n",
       "    .dataframe thead th {\n",
       "        text-align: right;\n",
       "    }\n",
       "</style>\n",
       "<table border=\"1\" class=\"dataframe\">\n",
       "  <thead>\n",
       "    <tr style=\"text-align: right;\">\n",
       "      <th></th>\n",
       "      <th>Accuracy</th>\n",
       "      <th>Accuracy_with_smote</th>\n",
       "      <th>Recall</th>\n",
       "      <th>Recall_with_smote</th>\n",
       "    </tr>\n",
       "  </thead>\n",
       "  <tbody>\n",
       "    <tr>\n",
       "      <th>Bayes</th>\n",
       "      <td>0.951</td>\n",
       "      <td>0.867</td>\n",
       "      <td>0.77</td>\n",
       "      <td>0.98</td>\n",
       "    </tr>\n",
       "    <tr>\n",
       "      <th>LR</th>\n",
       "      <td>0.909</td>\n",
       "      <td>0.913</td>\n",
       "      <td>0.94</td>\n",
       "      <td>0.92</td>\n",
       "    </tr>\n",
       "    <tr>\n",
       "      <th>SVM</th>\n",
       "      <td>0.928</td>\n",
       "      <td>0.927</td>\n",
       "      <td>0.85</td>\n",
       "      <td>0.86</td>\n",
       "    </tr>\n",
       "    <tr>\n",
       "      <th>RF</th>\n",
       "      <td>0.959</td>\n",
       "      <td>0.900</td>\n",
       "      <td>0.64</td>\n",
       "      <td>0.92</td>\n",
       "    </tr>\n",
       "  </tbody>\n",
       "</table>\n",
       "</div>"
      ],
      "text/plain": [
       "       Accuracy  Accuracy_with_smote  Recall  Recall_with_smote\n",
       "Bayes     0.951                0.867    0.77               0.98\n",
       "LR        0.909                0.913    0.94               0.92\n",
       "SVM       0.928                0.927    0.85               0.86\n",
       "RF        0.959                0.900    0.64               0.92"
      ]
     },
     "execution_count": 42,
     "metadata": {},
     "output_type": "execute_result"
    }
   ],
   "source": [
    "result = pd.DataFrame(result, index=model_name)\n",
    "result"
   ]
  },
  {
   "cell_type": "markdown",
   "metadata": {},
   "source": [
    "## RandomForest的准确率最高"
   ]
  }
 ],
 "metadata": {
  "kernelspec": {
   "display_name": "Python 3",
   "language": "python",
   "name": "python3"
  },
  "language_info": {
   "codemirror_mode": {
    "name": "ipython",
    "version": 3
   },
   "file_extension": ".py",
   "mimetype": "text/x-python",
   "name": "python",
   "nbconvert_exporter": "python",
   "pygments_lexer": "ipython3",
   "version": "3.6.5"
  }
 },
 "nbformat": 4,
 "nbformat_minor": 2
}
